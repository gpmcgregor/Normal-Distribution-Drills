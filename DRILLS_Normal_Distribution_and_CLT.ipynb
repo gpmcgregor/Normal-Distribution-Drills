{
  "nbformat": 4,
  "nbformat_minor": 0,
  "metadata": {
    "colab": {
      "name": "DRILLS- Normal Distribution and CLT",
      "version": "0.3.2",
      "provenance": []
    },
    "kernelspec": {
      "name": "python3",
      "display_name": "Python 3"
    }
  },
  "cells": [
    {
      "metadata": {
        "id": "Ga4mE9FSfs19",
        "colab_type": "text"
      },
      "cell_type": "markdown",
      "source": [
        "# Descriptive Statistics"
      ]
    },
    {
      "metadata": {
        "id": "3t7gNJpZHn8M",
        "colab_type": "code",
        "colab": {}
      },
      "cell_type": "code",
      "source": [
        "import numpy as np\n",
        "import pandas as pd\n",
        "import scipy\n",
        "import matplotlib.pyplot as plt\n",
        "%matplotlib inline"
      ],
      "execution_count": 0,
      "outputs": []
    },
    {
      "metadata": {
        "id": "_YmY021ZID5Z",
        "colab_type": "code",
        "colab": {
          "base_uri": "https://localhost:8080/",
          "height": 265
        },
        "outputId": "9a227354-1193-438d-f860-e757b2547cb2"
      },
      "cell_type": "code",
      "source": [
        "gam = np.random.gamma(1, 1, 100)\n",
        "plt.hist(gam, bins=20, color='black')\n",
        "plt.axvline(gam.mean(), color='grey', linestyle='solid', linewidth=2)\n",
        "plt.axvline(gam.mean()+gam.std(), color='grey', linestyle='dotted', linewidth=2)\n",
        "plt.axvline(gam.mean()-gam.std(), color='grey', linestyle='dotted', linewidth=2)\n",
        "plt.show()"
      ],
      "execution_count": 34,
      "outputs": [
        {
          "output_type": "display_data",
          "data": {
            "image/png": "[encoded data removed]",
            "text/plain": [
              "<matplotlib.figure.Figure at 0x7fcb1ae0b9b0>"
            ]
          },
          "metadata": {
            "tags": []
          }
        }
      ]
    },
    {
      "metadata": {
        "id": "ZsPVP99AKBfy",
        "colab_type": "code",
        "colab": {
          "base_uri": "https://localhost:8080/",
          "height": 265
        },
        "outputId": "55d8671a-3d22-4010-b44c-cf284978e37f"
      },
      "cell_type": "code",
      "source": [
        "chi = np.random.chisquare(1, 100)\n",
        "plt.hist(chi, bins=20, color='black')\n",
        "plt.axvline(chi.mean(), color='grey', linestyle='solid', linewidth=2)\n",
        "plt.axvline(chi.mean()+chi.std(), color='grey', linestyle='dotted', linewidth=2)\n",
        "plt.axvline(chi.mean()-chi.std(), color='grey', linestyle='dotted', linewidth=2)\n",
        "plt.show()"
      ],
      "execution_count": 35,
      "outputs": [
        {
          "output_type": "display_data",
          "data": {
            "image/png": "[encoded data removed]",
            "text/plain": [
              "<matplotlib.figure.Figure at 0x7fcb1ae122b0>"
            ]
          },
          "metadata": {
            "tags": []
          }
        }
      ]
    },
    {
      "metadata": {
        "id": "ARbVMbiSL7Sz",
        "colab_type": "code",
        "colab": {
          "base_uri": "https://localhost:8080/",
          "height": 265
        },
        "outputId": "8a288116-af47-4d44-eda8-cbbbfb636bdf"
      },
      "cell_type": "code",
      "source": [
        "lpl = np.random.laplace(1, 1, 100)\n",
        "plt.hist(lpl, bins=20, color='black')\n",
        "plt.axvline(lpl.mean(), color='grey', linestyle='solid', linewidth=2)\n",
        "plt.axvline(lpl.mean()+lpl.std(), color='grey', linestyle='dotted', linewidth=2)\n",
        "plt.axvline(lpl.mean()-lpl.std(), color='grey', linestyle='dotted', linewidth=2)\n",
        "plt.show()"
      ],
      "execution_count": 36,
      "outputs": [
        {
          "output_type": "display_data",
          "data": {
            "image/png": "[encoded data removed]",
            "text/plain": [
              "<matplotlib.figure.Figure at 0x7fcb1b5b95f8>"
            ]
          },
          "metadata": {
            "tags": []
          }
        }
      ]
    },
    {
      "metadata": {
        "id": "N9DywEa5OJ0e",
        "colab_type": "code",
        "colab": {
          "base_uri": "https://localhost:8080/",
          "height": 265
        },
        "outputId": "c10214bc-4347-46ba-d094-962f9b20bcd8"
      },
      "cell_type": "code",
      "source": [
        "logi = np.random.logistic(1, 1, 100)\n",
        "plt.hist(logi, bins=20, color='black')\n",
        "plt.axvline(logi.mean(), color='grey', linestyle='solid', linewidth=2)\n",
        "plt.axvline(logi.mean()+logi.std(), color='grey', linestyle='dotted', linewidth=2)\n",
        "plt.axvline(logi.mean()-logi.std(), color='grey', linestyle='dotted', linewidth=2)\n",
        "plt.show()"
      ],
      "execution_count": 37,
      "outputs": [
        {
          "output_type": "display_data",
          "data": {
            "image/png": "[encoded data removed]",
            "text/plain": [
              "<matplotlib.figure.Figure at 0x7fcb1b54b198>"
            ]
          },
          "metadata": {
            "tags": []
          }
        }
      ]
    },
    {
      "metadata": {
        "id": "ZjC7qTddRLM6",
        "colab_type": "code",
        "colab": {
          "base_uri": "https://localhost:8080/",
          "height": 265
        },
        "outputId": "18479b6e-a63e-42b0-feab-c88ffdad1960"
      },
      "cell_type": "code",
      "source": [
        "par = np.random.pareto(1, 100)\n",
        "plt.hist(par, bins=20, color='black')\n",
        "plt.axvline(par.mean(), color='grey', linestyle='solid', linewidth=2)\n",
        "plt.axvline(par.mean()+par.std(), color='grey', linestyle='dotted', linewidth=2)\n",
        "plt.axvline(par.mean()-par.std(), color='grey', linestyle='dotted', linewidth=2)\n",
        "plt.show()"
      ],
      "execution_count": 40,
      "outputs": [
        {
          "output_type": "display_data",
          "data": {
            "image/png": "[encoded data removed]",
            "text/plain": [
              "<matplotlib.figure.Figure at 0x7fcb1ae7ce48>"
            ]
          },
          "metadata": {
            "tags": []
          }
        }
      ]
    },
    {
      "metadata": {
        "id": "RRlcLsDAUQEE",
        "colab_type": "code",
        "colab": {
          "base_uri": "https://localhost:8080/",
          "height": 265
        },
        "outputId": "3b46df05-378b-4da5-e972-0950d6e2e2f9"
      },
      "cell_type": "code",
      "source": [
        "ray = np.random.rayleigh(1, 100)\n",
        "plt.hist(ray, bins=20, color='black')\n",
        "plt.axvline(ray.mean(), color='grey', linestyle='solid', linewidth=2)\n",
        "plt.axvline(ray.mean()+ray.std(), color='grey', linestyle='dotted', linewidth=2)\n",
        "plt.axvline(ray.mean()-ray.std(), color='grey', linestyle='dotted', linewidth=2)\n",
        "plt.show()"
      ],
      "execution_count": 39,
      "outputs": [
        {
          "output_type": "display_data",
          "data": {
            "image/png": "[encoded data removed]",
            "text/plain": [
              "<matplotlib.figure.Figure at 0x7fcb1ae8c0b8>"
            ]
          },
          "metadata": {
            "tags": []
          }
        }
      ]
    },
    {
      "metadata": {
        "id": "cn2XEIipaM0x",
        "colab_type": "text"
      },
      "cell_type": "markdown",
      "source": [
        "I can see in the distributions that the mean does not always reflect the tallest histogram bar, but it is usually within the standard deviation. The standard deviation lines usually encompass most of the data points. \n",
        "The mean & standard deviation do not describe much of the diagram's extremes. For example, in the Pareto histogram, the outliers go up to 50 where the outer standard deviation is below 15."
      ]
    },
    {
      "metadata": {
        "id": "kPlCB20sV-d1",
        "colab_type": "code",
        "colab": {
          "base_uri": "https://localhost:8080/",
          "height": 265
        },
        "outputId": "7add0eaf-1cbc-4768-9506-da616fa3bdde"
      },
      "cell_type": "code",
      "source": [
        "rand1 = np.random.normal(5, .5, 100)\n",
        "rand2 = np.random.normal(10, 1, 100)\n",
        "rand3 = rand1 + rand2\n",
        "plt.hist(rand3, bins=20, color='black')\n",
        "#plt.hist(rand1, bins=20, color='r', alpha=.25)\n",
        "#plt.hist(rand2, bins=20, color='b', alpha=.25)\n",
        "plt.axvline(rand3.mean(), color='grey', linestyle='solid')\n",
        "plt.axvline(rand3.mean()-rand3.std(), color='grey', linestyle='dotted')\n",
        "plt.axvline(rand3.mean()+rand3.std(), color='grey', linestyle='dotted')\n",
        "plt.show()"
      ],
      "execution_count": 52,
      "outputs": [
        {
          "output_type": "display_data",
          "data": {
            "image/png": "[encoded data removed]",
            "text/plain": [
              "<matplotlib.figure.Figure at 0x7fcb1acec518>"
            ]
          },
          "metadata": {
            "tags": []
          }
        }
      ]
    },
    {
      "metadata": {
        "id": "QY_dFh-hfmsh",
        "colab_type": "text"
      },
      "cell_type": "markdown",
      "source": [
        "# Central Limit Theorem"
      ]
    },
    {
      "metadata": {
        "id": "Ft2ev_ovhyE5",
        "colab_type": "code",
        "colab": {
          "base_uri": "https://localhost:8080/",
          "height": 267
        },
        "outputId": "63fd3fc2-af08-46e6-aa07-f85a31a8bcd2"
      },
      "cell_type": "code",
      "source": [
        "pop1 = np.random.gamma(10, 0.3, 10000)\n",
        "pop2 = np.random.gamma(10, 0.5, 10000)\n",
        "\n",
        "plt.hist(pop1, bins=20, color='r', alpha=.5)\n",
        "plt.hist(pop2, bins=20, color='c', alpha=.5)\n",
        "plt.show()"
      ],
      "execution_count": 80,
      "outputs": [
        {
          "output_type": "display_data",
          "data": {
            "image/png": "[encoded data removed]",
            "text/plain": [
              "<matplotlib.figure.Figure at 0x7fcb1af0df28>"
            ]
          },
          "metadata": {
            "tags": []
          }
        }
      ]
    },
    {
      "metadata": {
        "id": "iqbZFrvUdIWE",
        "colab_type": "code",
        "colab": {
          "base_uri": "https://localhost:8080/",
          "height": 333
        },
        "outputId": "f38774dc-f3e0-4267-aa9d-00dabad9aa69"
      },
      "cell_type": "code",
      "source": [
        "sample1 = np.random.choice(pop1, 100, replace=True)\n",
        "sample2 = np.random.choice(pop2, 100, replace=True)\n",
        "\n",
        "print(sample1.mean())\n",
        "print(sample1.std())\n",
        "print(sample2.mean())\n",
        "print(sample2.std())\n",
        "plt.hist(sample1, bins=20, color='r', alpha=.5)\n",
        "plt.hist(sample2, bins=20, color='c', alpha=.5)\n",
        "plt.show()"
      ],
      "execution_count": 81,
      "outputs": [
        {
          "output_type": "stream",
          "text": [
            "3.0703412139519\n",
            "0.9688172420557216\n",
            "5.102730157083915\n",
            "1.67472509728494\n"
          ],
          "name": "stdout"
        },
        {
          "output_type": "display_data",
          "data": {
            "image/png": "[encoded data removed]",
            "text/plain": [
              "<matplotlib.figure.Figure at 0x7fcb1b137080>"
            ]
          },
          "metadata": {
            "tags": []
          }
        }
      ]
    },
    {
      "metadata": {
        "id": "0-CoWS_7hNyf",
        "colab_type": "text"
      },
      "cell_type": "markdown",
      "source": [
        "1. Changing size of samples:\n",
        "I think the mean will stay around the same, where the standard deviation will decrease as the sample size goes up and increase as the sample size goes down."
      ]
    },
    {
      "metadata": {
        "id": "qzB_Z9ZPi8le",
        "colab_type": "code",
        "colab": {
          "base_uri": "https://localhost:8080/",
          "height": 34
        },
        "outputId": "56255983-cb36-4c15-8f35-847328124329"
      },
      "cell_type": "code",
      "source": [
        "from scipy.stats import ttest_ind\n",
        "print(ttest_ind(sample2, sample1, equal_var=False))"
      ],
      "execution_count": 75,
      "outputs": [
        {
          "output_type": "stream",
          "text": [
            "Ttest_indResult(statistic=0.7396435987586849, pvalue=0.46418921157939397)\n"
          ],
          "name": "stdout"
        }
      ]
    },
    {
      "metadata": {
        "id": "LpiL67KRj26F",
        "colab_type": "text"
      },
      "cell_type": "markdown",
      "source": [
        "2. I think when increasing the p value in pop1 from 0.3 to 0.4, it will raise the calculated p-value"
      ]
    },
    {
      "metadata": {
        "id": "RnrvVn4slPGn",
        "colab_type": "text"
      },
      "cell_type": "markdown",
      "source": [
        "3. The samples are not quite accurately representing the original populations. They seem to vary more in the samples, although they seem to center around the same spot."
      ]
    }
  ]
}